{
 "cells": [
  {
   "cell_type": "code",
   "execution_count": null,
   "id": "ab32839f",
   "metadata": {},
   "outputs": [],
   "source": [
    "import pandas as pd\n",
    "import numpy as np\n",
    "import pymysql\n",
    "from sqlalchemy import create_engine\n",
    "import getpass  # To get the password without showing the input\n",
    "password = getpass.getpass()"
   ]
  },
  {
   "cell_type": "code",
   "execution_count": null,
   "id": "fb1cbaae",
   "metadata": {},
   "outputs": [],
   "source": [
    "sk = \"sakila\"\n",
    "connection_string = 'mysql+pymysql://root:' + password + '@localhost/'+sk\n",
    "engine = create_engine(connection_string)\n",
    "engine"
   ]
  },
  {
   "cell_type": "code",
   "execution_count": null,
   "id": "d90831bb",
   "metadata": {},
   "outputs": [],
   "source": [
    "connection = engine.connect()"
   ]
  },
  {
   "cell_type": "code",
   "execution_count": null,
   "id": "107e1276",
   "metadata": {},
   "outputs": [],
   "source": [
    "with engine.connect() as connection:\n",
    "    ..."
   ]
  },
  {
   "cell_type": "code",
   "execution_count": null,
   "id": "7c768b82",
   "metadata": {},
   "outputs": [],
   "source": [
    "from sqlalchemy import text\n",
    "\n",
    "with engine.connect() as connection:\n",
    "    query = text('SELECT * FROM rental')\n",
    "    result = connection.execute(query)\n",
    "\n",
    "result"
   ]
  },
  {
   "cell_type": "code",
   "execution_count": null,
   "id": "d0f28534",
   "metadata": {},
   "outputs": [],
   "source": [
    "with engine.connect() as connection:\n",
    "    query = text('SELECT * FROM rental')\n",
    "    result = connection.execute(query)\n",
    "    df = pd.DataFrame(result.all())\n",
    "\n",
    "df"
   ]
  },
  {
   "cell_type": "code",
   "execution_count": null,
   "id": "69a0c0fc",
   "metadata": {},
   "outputs": [],
   "source": [
    "def rentals_month(engine, month, year):\n",
    "    query = f\"\"\"\n",
    "    SELECT * \n",
    "    FROM rental \n",
    "    WHERE MONTH(rental_date) = {month} \n",
    "    AND YEAR(rental_date) = {year};\n",
    "    \"\"\"\n",
    "    rental_data = pd.read_sql_query(query, engine)\n",
    "    \n",
    "    return rental_data\n"
   ]
  },
  {
   "cell_type": "code",
   "execution_count": null,
   "id": "95fee4f2",
   "metadata": {},
   "outputs": [],
   "source": [
    "def rental_count_month(rental_data, month, year):\n",
    "    rental_count = rental_data['customer_id'].value_counts().reset_index()\n",
    "    rental_count.columns = ['customer_id', f'rentals_{month:02d}_{year}']\n",
    "    return rental_count"
   ]
  },
  {
   "cell_type": "code",
   "execution_count": null,
   "id": "51a760f8",
   "metadata": {},
   "outputs": [],
   "source": [
    "def compare_rentals(rental_data1, rental_data2):\n",
    "    merged_rentals = rental_data1.merge(rental_data2, on='customer_id', how='outer')\n",
    "    merged_rentals = merged_rentals.fillna(0)\n",
    "    merged_rentals['difference'] = merged_rentals.iloc[:, 1] - merged_rentals.iloc[:, 2]\n",
    "    return merged_rentals\n"
   ]
  },
  {
   "cell_type": "code",
   "execution_count": null,
   "id": "2b92f9ff",
   "metadata": {},
   "outputs": [],
   "source": []
  }
 ],
 "metadata": {
  "kernelspec": {
   "display_name": "Python 3 (ipykernel)",
   "language": "python",
   "name": "python3"
  },
  "language_info": {
   "codemirror_mode": {
    "name": "ipython",
    "version": 3
   },
   "file_extension": ".py",
   "mimetype": "text/x-python",
   "name": "python",
   "nbconvert_exporter": "python",
   "pygments_lexer": "ipython3",
   "version": "3.11.5"
  }
 },
 "nbformat": 4,
 "nbformat_minor": 5
}
